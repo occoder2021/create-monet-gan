{
 "cells": [
  {
   "cell_type": "markdown",
   "metadata": {},
   "source": [
    "# Monet Style Art Creation Using GAN\n",
    "\n",
    "# Project Overview\n",
    "\n",
    "The objective of this project is to develop a generative adversarial network (GAN) which will convert regular photos into Monet style paintings. A GAN is made up of at least two neural networks, i.e. a generator model and a discriminator model. As this is an adversarial model, the generator and the discriminator will work in opposition to eventually create more realistic images. \n",
    "\n",
    "In this project, I will employ the use of CycleGAN. According to the tensorflow website, CycleGAN is able to train without the use of paired data, as the GAN employs an additional cycle consistency loss function. This proves to be beneficial, as CycleGAN can translate between two domains without having a one-to-one mapping between them. Because of this, CycleGAN is able to do tasks such as style transfer, which is the main objective of this project.\n",
    "\n",
    "This dataset can be found in the Kaggle \"I'm Something of a Painter Myself\" competition. The dataset contains four directories: \n",
    "* monet_tfrec\n",
    "* photo_tfrec\n",
    "* monet_jpg\n",
    "* photo_jpg\n",
    "\n",
    "The monet directories contain 300 Monet paintings with a size of 256x256 pixels. The monet_jpg directory contains these 300 paintings in JPEG format, while the monet_tfrec directory contains them in TFRecord format. The photo directories contain 7028 photos sized 256x256 pixels. Again, photo_jpg and photo_tfrec have the photos in JPEG and TFRecord format, respectively.\n",
    "\n",
    "Project Tasks:\n",
    "* Load Data\n",
    "* Exploratory Data Analysis\n",
    "* Model Architecture\n",
    "* Build Model\n",
    "* Training the Model\n",
    "* Results\n",
    "* Submission\n"
   ]
  },
  {
   "cell_type": "markdown",
   "metadata": {},
   "source": [
    "## Initial Setup"
   ]
  },
  {
   "cell_type": "code",
   "execution_count": null,
   "metadata": {
    "_cell_guid": "79c7e3d0-c299-4dcb-8224-4455121ee9b0",
    "_uuid": "d629ff2d2480ee46fbb7e2d37f6b5fab8052498a",
    "execution": {
     "iopub.execute_input": "2023-08-01T03:42:56.655232Z",
     "iopub.status.busy": "2023-08-01T03:42:56.654465Z",
     "iopub.status.idle": "2023-08-01T03:42:56.664782Z",
     "shell.execute_reply": "2023-08-01T03:42:56.663738Z",
     "shell.execute_reply.started": "2023-08-01T03:42:56.655193Z"
    }
   },
   "outputs": [],
   "source": [
    "import tensorflow as tf\n",
    "from tensorflow import keras\n",
    "from tensorflow.keras import layers\n",
    "import tensorflow_addons as tfa\n",
    "\n",
    "from kaggle_datasets import KaggleDatasets\n",
    "import matplotlib.pyplot as plt\n",
    "import numpy as np\n",
    "import os\n",
    "import seaborn as sns\n",
    "import cv2\n",
    "\n",
    "try:\n",
    "    tpu = tf.distribute.cluster_resolver.TPUClusterResolver()\n",
    "    print('Device:', tpu.master())\n",
    "    tf.config.experimental_connect_to_cluster(tpu)\n",
    "    tf.tpu.experimental.initialize_tpu_system(tpu)\n",
    "    strategy = tf.distribute.experimental.TPUStrategy(tpu)\n",
    "except:\n",
    "    strategy = tf.distribute.get_strategy()\n",
    "print('Number of replicas:', strategy.num_replicas_in_sync)\n",
    "\n",
    "AUTOTUNE = tf.data.experimental.AUTOTUNE\n",
    "    \n",
    "print(tf.__version__)\n"
   ]
  },
  {
   "cell_type": "markdown",
   "metadata": {},
   "source": [
    "# Load data"
   ]
  },
  {
   "cell_type": "code",
   "execution_count": null,
   "metadata": {
    "execution": {
     "iopub.execute_input": "2023-08-01T03:41:41.040973Z",
     "iopub.status.busy": "2023-08-01T03:41:41.040461Z",
     "iopub.status.idle": "2023-08-01T03:41:41.049023Z",
     "shell.execute_reply": "2023-08-01T03:41:41.047887Z",
     "shell.execute_reply.started": "2023-08-01T03:41:41.040931Z"
    }
   },
   "outputs": [],
   "source": [
    "# Loading monet and photo directories for EDA\n",
    "monet_eda = \"../input/monet-gan-getting-started/monet_jpg\"\n",
    "photo_eda = \"../input/monet-gan-getting-started/photo_jpg\""
   ]
  },
  {
   "cell_type": "code",
   "execution_count": null,
   "metadata": {
    "execution": {
     "iopub.execute_input": "2023-08-01T03:41:42.153418Z",
     "iopub.status.busy": "2023-08-01T03:41:42.153029Z",
     "iopub.status.idle": "2023-08-01T03:41:42.159789Z",
     "shell.execute_reply": "2023-08-01T03:41:42.158750Z",
     "shell.execute_reply.started": "2023-08-01T03:41:42.153385Z"
    }
   },
   "outputs": [],
   "source": [
    "# Creating image_path function to retrieve image paths from directory\n",
    "def image_path(path):\n",
    "    image_names = []\n",
    "    for dirname, _, filenames in os.walk(path):\n",
    "        for filename in filenames:\n",
    "            fullpath = os.path.join(dirname, filename)\n",
    "            image_names.append(fullpath)\n",
    "    return image_names"
   ]
  },
  {
   "cell_type": "code",
   "execution_count": null,
   "metadata": {
    "execution": {
     "iopub.execute_input": "2023-08-01T03:41:43.204066Z",
     "iopub.status.busy": "2023-08-01T03:41:43.203357Z",
     "iopub.status.idle": "2023-08-01T03:41:48.332080Z",
     "shell.execute_reply": "2023-08-01T03:41:48.330909Z",
     "shell.execute_reply.started": "2023-08-01T03:41:43.204013Z"
    }
   },
   "outputs": [],
   "source": [
    "# Applying image_path function to monet_eda and photo_eda datasets\n",
    "monet_eda1 = image_path(monet_eda)\n",
    "photo_eda1 = image_path(photo_eda)"
   ]
  },
  {
   "cell_type": "code",
   "execution_count": null,
   "metadata": {
    "execution": {
     "iopub.execute_input": "2023-08-01T03:41:59.038463Z",
     "iopub.status.busy": "2023-08-01T03:41:59.038076Z",
     "iopub.status.idle": "2023-08-01T03:41:59.611629Z",
     "shell.execute_reply": "2023-08-01T03:41:59.610533Z",
     "shell.execute_reply.started": "2023-08-01T03:41:59.038430Z"
    }
   },
   "outputs": [],
   "source": [
    "GCS_PATH = KaggleDatasets().get_gcs_path()"
   ]
  },
  {
   "cell_type": "code",
   "execution_count": null,
   "metadata": {
    "execution": {
     "iopub.execute_input": "2023-08-01T03:41:59.858294Z",
     "iopub.status.busy": "2023-08-01T03:41:59.857374Z",
     "iopub.status.idle": "2023-08-01T03:42:01.199634Z",
     "shell.execute_reply": "2023-08-01T03:42:01.198594Z",
     "shell.execute_reply.started": "2023-08-01T03:41:59.858246Z"
    }
   },
   "outputs": [],
   "source": [
    "MONET_FILENAMES = tf.io.gfile.glob(str(GCS_PATH + '/monet_tfrec/*.tfrec'))\n",
    "print('Monet TFRecord Files:', len(MONET_FILENAMES))\n",
    "\n",
    "PHOTO_FILENAMES = tf.io.gfile.glob(str(GCS_PATH + '/photo_tfrec/*.tfrec'))\n",
    "print('Photo TFRecord Files:', len(PHOTO_FILENAMES))"
   ]
  },
  {
   "cell_type": "markdown",
   "metadata": {},
   "source": [
    "All the images for the competition are already sized to 256x256. As these images are RGB images, set the channel to 3. Additionally, we need to scale the images to a [-1, 1] scale. Because we are building a generative model, we don't need the labels or the image id so we'll only return the image from the TFRecord."
   ]
  },
  {
   "cell_type": "code",
   "execution_count": null,
   "metadata": {
    "execution": {
     "iopub.execute_input": "2023-08-01T03:42:03.248747Z",
     "iopub.status.busy": "2023-08-01T03:42:03.248348Z",
     "iopub.status.idle": "2023-08-01T03:42:03.256271Z",
     "shell.execute_reply": "2023-08-01T03:42:03.255209Z",
     "shell.execute_reply.started": "2023-08-01T03:42:03.248714Z"
    }
   },
   "outputs": [],
   "source": [
    "IMAGE_SIZE = [256, 256]\n",
    "# decode_image function\n",
    "def decode_image(image):\n",
    "    image = tf.image.decode_jpeg(image, channels=3)\n",
    "    image = (tf.cast(image, tf.float32) / 127.5) - 1\n",
    "    image = tf.reshape(image, [*IMAGE_SIZE, 3])\n",
    "    return image\n",
    "\n"
   ]
  },
  {
   "cell_type": "code",
   "execution_count": null,
   "metadata": {
    "execution": {
     "iopub.execute_input": "2023-08-01T03:42:04.258103Z",
     "iopub.status.busy": "2023-08-01T03:42:04.257380Z",
     "iopub.status.idle": "2023-08-01T03:42:04.265712Z",
     "shell.execute_reply": "2023-08-01T03:42:04.264297Z",
     "shell.execute_reply.started": "2023-08-01T03:42:04.258064Z"
    }
   },
   "outputs": [],
   "source": [
    "# Creating read_tfrecord function\n",
    "def read_tfrecord(example):\n",
    "    tfrecord_format = {\n",
    "        \"image_name\": tf.io.FixedLenFeature([], tf.string),\n",
    "        \"image\": tf.io.FixedLenFeature([], tf.string),\n",
    "        \"target\": tf.io.FixedLenFeature([], tf.string)\n",
    "    }\n",
    "    example = tf.io.parse_single_example(example, tfrecord_format)\n",
    "    image = decode_image(example['image'])\n",
    "    return image"
   ]
  },
  {
   "cell_type": "markdown",
   "metadata": {},
   "source": [
    "The functions decode_image and read_tfrecord above will work to help extract images from the monet_filenames and photo_filenames datasets. All images in the datasets are already set to 256x256 pixels and the channel has been set to 3, as all images are RGB images. The functions above will scale these images to a (-1,1) scale."
   ]
  },
  {
   "cell_type": "markdown",
   "metadata": {},
   "source": [
    "Define the function to extract the image from the files."
   ]
  },
  {
   "cell_type": "code",
   "execution_count": null,
   "metadata": {
    "execution": {
     "iopub.execute_input": "2023-08-01T03:42:06.564772Z",
     "iopub.status.busy": "2023-08-01T03:42:06.563608Z",
     "iopub.status.idle": "2023-08-01T03:42:06.570693Z",
     "shell.execute_reply": "2023-08-01T03:42:06.569517Z",
     "shell.execute_reply.started": "2023-08-01T03:42:06.564726Z"
    }
   },
   "outputs": [],
   "source": [
    "def load_dataset(filenames, labeled=True, ordered=False):\n",
    "    dataset = tf.data.TFRecordDataset(filenames)\n",
    "    dataset = dataset.map(read_tfrecord, num_parallel_calls=AUTOTUNE)\n",
    "    return dataset"
   ]
  },
  {
   "cell_type": "markdown",
   "metadata": {},
   "source": [
    "Let's load in our datasets."
   ]
  },
  {
   "cell_type": "code",
   "execution_count": null,
   "metadata": {
    "execution": {
     "iopub.execute_input": "2023-08-01T03:43:12.540113Z",
     "iopub.status.busy": "2023-08-01T03:43:12.539716Z",
     "iopub.status.idle": "2023-08-01T03:43:12.711937Z",
     "shell.execute_reply": "2023-08-01T03:43:12.710917Z",
     "shell.execute_reply.started": "2023-08-01T03:43:12.540079Z"
    }
   },
   "outputs": [],
   "source": [
    "monet_ds = load_dataset(MONET_FILENAMES, labeled=True).batch(1)\n",
    "photo_ds = load_dataset(PHOTO_FILENAMES, labeled=True).batch(1)"
   ]
  },
  {
   "cell_type": "code",
   "execution_count": null,
   "metadata": {
    "execution": {
     "iopub.execute_input": "2023-08-01T03:43:13.868707Z",
     "iopub.status.busy": "2023-08-01T03:43:13.868152Z",
     "iopub.status.idle": "2023-08-01T03:43:17.604264Z",
     "shell.execute_reply": "2023-08-01T03:43:17.603178Z",
     "shell.execute_reply.started": "2023-08-01T03:43:13.868649Z"
    }
   },
   "outputs": [],
   "source": [
    "example_monet = next(iter(monet_ds))\n",
    "example_photo = next(iter(photo_ds))"
   ]
  },
  {
   "cell_type": "markdown",
   "metadata": {},
   "source": [
    "## Exploratory Data Analysis"
   ]
  },
  {
   "cell_type": "code",
   "execution_count": null,
   "metadata": {
    "execution": {
     "iopub.execute_input": "2023-08-01T03:43:23.810605Z",
     "iopub.status.busy": "2023-08-01T03:43:23.810201Z",
     "iopub.status.idle": "2023-08-01T03:43:24.194053Z",
     "shell.execute_reply": "2023-08-01T03:43:24.193074Z",
     "shell.execute_reply.started": "2023-08-01T03:43:23.810563Z"
    }
   },
   "outputs": [],
   "source": [
    "plt.subplot(121)\n",
    "plt.title('Photo')\n",
    "plt.imshow(example_photo[0] * 0.5 + 0.5)\n",
    "\n",
    "plt.subplot(122)\n",
    "plt.title('Monet')\n",
    "plt.imshow(example_monet[0] * 0.5 + 0.5)"
   ]
  },
  {
   "cell_type": "code",
   "execution_count": null,
   "metadata": {
    "execution": {
     "iopub.execute_input": "2023-08-01T03:43:25.628691Z",
     "iopub.status.busy": "2023-08-01T03:43:25.628275Z",
     "iopub.status.idle": "2023-08-01T03:43:25.635067Z",
     "shell.execute_reply": "2023-08-01T03:43:25.634022Z",
     "shell.execute_reply.started": "2023-08-01T03:43:25.628655Z"
    }
   },
   "outputs": [],
   "source": [
    "# Viewing number of images in monet and photo datasets\n",
    "print(\"Monet Images: \", len(monet_eda1))\n",
    "print(\"Photo Images: \", len(photo_eda1))"
   ]
  },
  {
   "cell_type": "markdown",
   "metadata": {},
   "source": [
    "There are 300 images in the monet dataset and 7038 images in the photo dataset."
   ]
  },
  {
   "cell_type": "code",
   "execution_count": null,
   "metadata": {
    "execution": {
     "iopub.execute_input": "2023-08-01T03:45:01.612562Z",
     "iopub.status.busy": "2023-08-01T03:45:01.612130Z",
     "iopub.status.idle": "2023-08-01T03:45:01.620256Z",
     "shell.execute_reply": "2023-08-01T03:45:01.619151Z",
     "shell.execute_reply.started": "2023-08-01T03:45:01.612507Z"
    }
   },
   "outputs": [],
   "source": [
    "# Creating display function to show image examples\n",
    "def display(images_paths, rows, cols):\n",
    "    figure, ax = plt.subplots(nrows=rows,ncols=cols,figsize=(16,8) )\n",
    "    for ind,image_path in enumerate(images_paths):\n",
    "        image=cv2.imread(image_path)\n",
    "        image = cv2.cvtColor(image, cv2.COLOR_BGR2RGB) \n",
    "        try:\n",
    "            ax.ravel()[ind].imshow(image)\n",
    "            ax.ravel()[ind].set_axis_off()\n",
    "        except:\n",
    "            continue;\n",
    "    plt.tight_layout()\n",
    "    plt.show()"
   ]
  },
  {
   "cell_type": "code",
   "execution_count": null,
   "metadata": {
    "execution": {
     "iopub.execute_input": "2023-08-01T03:45:24.994719Z",
     "iopub.status.busy": "2023-08-01T03:45:24.994319Z",
     "iopub.status.idle": "2023-08-01T03:45:28.032919Z",
     "shell.execute_reply": "2023-08-01T03:45:28.032009Z",
     "shell.execute_reply.started": "2023-08-01T03:45:24.994686Z"
    }
   },
   "outputs": [],
   "source": [
    "# Viewing examples of images in monet_eda dataset\n",
    "display(monet_eda1,3,3)"
   ]
  },
  {
   "cell_type": "code",
   "execution_count": null,
   "metadata": {
    "execution": {
     "iopub.execute_input": "2023-08-01T03:46:48.586222Z",
     "iopub.status.busy": "2023-08-01T03:46:48.585829Z",
     "iopub.status.idle": "2023-08-01T03:47:19.612269Z",
     "shell.execute_reply": "2023-08-01T03:47:19.611376Z",
     "shell.execute_reply.started": "2023-08-01T03:46:48.586188Z"
    }
   },
   "outputs": [],
   "source": [
    "# Viewing examples of images in photo_eda dataset\n",
    "display(photo_eda1,3,3)"
   ]
  },
  {
   "cell_type": "markdown",
   "metadata": {},
   "source": [
    "Above, we can see several examples of the Monet paintings and the photos that are available in the datasets. As you see, there are difference between the example sets. The photos are clear images while the Monet paintings have a different resolution. It will definitely be interesting to see how the GAN converts the photos into a Monet style work."
   ]
  },
  {
   "attachments": {
    "27bf3233-1ffa-49f0-8880-55f110c82797.png": {
     "image/png": "[encoded data removed]"
    }
   },
   "cell_type": "markdown",
   "metadata": {},
   "source": [
    "# Model Architecture\n",
    "\n",
    "In terms of model architecture there is really nothing special going on. The generators take a 256X256 image, downsample it with convolutional layers, and then there are multiple residual layers that help guarantee feature matching in the images. The discriminators take either a real or a fake image and return the probability that it thinks the image is either real or fake. \n",
    "\n",
    "We'll be using a UNET architecture for our CycleGAN. To build our generator, let's first define our `downsample` and `upsample` methods.\n",
    "\n",
    "A picture below illustrates the model at a high level where X and Y represent the image domains, G and F are the generators, and D represents the discriminators for their respective image domians.\n",
    "\n",
    "![image.png](attachment:27bf3233-1ffa-49f0-8880-55f110c82797.png)"
   ]
  },
  {
   "cell_type": "markdown",
   "metadata": {},
   "source": [
    "# Build the generator\n",
    "\n",
    "This is the first time I am using using CycleGAN. The following sections has been heavily influenced by a model tutorial created by this tutorial (https://www.kaggle.com/code/amyjang/monet-cyclegan-tutorial)."
   ]
  },
  {
   "cell_type": "code",
   "execution_count": null,
   "metadata": {
    "execution": {
     "iopub.execute_input": "2023-08-01T03:57:31.220924Z",
     "iopub.status.busy": "2023-08-01T03:57:31.220497Z",
     "iopub.status.idle": "2023-08-01T03:57:31.229407Z",
     "shell.execute_reply": "2023-08-01T03:57:31.228188Z",
     "shell.execute_reply.started": "2023-08-01T03:57:31.220891Z"
    }
   },
   "outputs": [],
   "source": [
    "OUTPUT_CHANNELS = 3\n",
    "\n",
    "def downsample(filters, size, apply_instancenorm=True):\n",
    "    initializer = tf.random_normal_initializer(0., 0.02)\n",
    "    gamma_init = keras.initializers.RandomNormal(mean=0.0, stddev=0.02)\n",
    "\n",
    "    result = keras.Sequential()\n",
    "    result.add(layers.Conv2D(filters, size, strides=2, padding='same',\n",
    "                             kernel_initializer=initializer, use_bias=False))\n",
    "\n",
    "    if apply_instancenorm:\n",
    "        result.add(tfa.layers.InstanceNormalization(gamma_initializer=gamma_init))\n",
    "\n",
    "    result.add(layers.LeakyReLU())\n",
    "\n",
    "    return result"
   ]
  },
  {
   "cell_type": "markdown",
   "metadata": {},
   "source": [
    "`Upsample` does the opposite of downsample and increases the dimensions of the of the image. `Conv2DTranspose` does basically the opposite of a `Conv2D` layer. The downsample function above works to reduce the dimensions (height and width) of images by a stride of 2."
   ]
  },
  {
   "cell_type": "code",
   "execution_count": null,
   "metadata": {
    "execution": {
     "iopub.execute_input": "2023-08-01T03:57:32.720412Z",
     "iopub.status.busy": "2023-08-01T03:57:32.719731Z",
     "iopub.status.idle": "2023-08-01T03:57:32.729298Z",
     "shell.execute_reply": "2023-08-01T03:57:32.727821Z",
     "shell.execute_reply.started": "2023-08-01T03:57:32.720378Z"
    }
   },
   "outputs": [],
   "source": [
    "def upsample(filters, size, apply_dropout=False):\n",
    "    initializer = tf.random_normal_initializer(0., 0.02)\n",
    "    gamma_init = keras.initializers.RandomNormal(mean=0.0, stddev=0.02)\n",
    "\n",
    "    result = keras.Sequential()\n",
    "    result.add(layers.Conv2DTranspose(filters, size, strides=2,\n",
    "                                      padding='same',\n",
    "                                      kernel_initializer=initializer,\n",
    "                                      use_bias=False))\n",
    "\n",
    "    result.add(tfa.layers.InstanceNormalization(gamma_initializer=gamma_init))\n",
    "\n",
    "    if apply_dropout:\n",
    "        result.add(layers.Dropout(0.5))\n",
    "\n",
    "    result.add(layers.ReLU())\n",
    "\n",
    "    return result"
   ]
  },
  {
   "cell_type": "markdown",
   "metadata": {},
   "source": [
    "Generator function downsamples and then upsamples input images. Skip connections are used in the upsample stage in order to avoid and remedy the vanishing gradient problem. Overall, the generator will work to produce images that the discriminator will classify as real or generated."
   ]
  },
  {
   "cell_type": "code",
   "execution_count": null,
   "metadata": {
    "execution": {
     "iopub.execute_input": "2023-08-01T03:57:33.527129Z",
     "iopub.status.busy": "2023-08-01T03:57:33.526125Z",
     "iopub.status.idle": "2023-08-01T03:57:33.540990Z",
     "shell.execute_reply": "2023-08-01T03:57:33.539775Z",
     "shell.execute_reply.started": "2023-08-01T03:57:33.527087Z"
    }
   },
   "outputs": [],
   "source": [
    "def Generator():\n",
    "    inputs = layers.Input(shape=[256,256,3])\n",
    "\n",
    "    # bs = batch size\n",
    "    down_stack = [\n",
    "        downsample(64, 4, apply_instancenorm=False), # (bs, 128, 128, 64)\n",
    "        downsample(128, 4), # (bs, 64, 64, 128)\n",
    "        downsample(256, 4), # (bs, 32, 32, 256)\n",
    "        downsample(512, 4), # (bs, 16, 16, 512)\n",
    "        downsample(512, 4), # (bs, 8, 8, 512)\n",
    "        downsample(512, 4), # (bs, 4, 4, 512)\n",
    "        downsample(512, 4), # (bs, 2, 2, 512)\n",
    "        downsample(512, 4), # (bs, 1, 1, 512)\n",
    "    ]\n",
    "\n",
    "    up_stack = [\n",
    "        upsample(512, 4, apply_dropout=True), # (bs, 2, 2, 1024)\n",
    "        upsample(512, 4, apply_dropout=True), # (bs, 4, 4, 1024)\n",
    "        upsample(512, 4, apply_dropout=True), # (bs, 8, 8, 1024)\n",
    "        upsample(512, 4), # (bs, 16, 16, 1024)\n",
    "        upsample(256, 4), # (bs, 32, 32, 512)\n",
    "        upsample(128, 4), # (bs, 64, 64, 256)\n",
    "        upsample(64, 4), # (bs, 128, 128, 128)\n",
    "    ]\n",
    "\n",
    "    initializer = tf.random_normal_initializer(0., 0.02)\n",
    "    last = layers.Conv2DTranspose(OUTPUT_CHANNELS, 4,\n",
    "                                  strides=2,\n",
    "                                  padding='same',\n",
    "                                  kernel_initializer=initializer,\n",
    "                                  activation='tanh') # (bs, 256, 256, 3)\n",
    "\n",
    "    x = inputs\n",
    "\n",
    "    # Downsampling through the model\n",
    "    skips = []\n",
    "    for down in down_stack:\n",
    "        x = down(x)\n",
    "        skips.append(x)\n",
    "\n",
    "    skips = reversed(skips[:-1])\n",
    "\n",
    "    # Upsampling and establishing the skip connections\n",
    "    for up, skip in zip(up_stack, skips):\n",
    "        x = up(x)\n",
    "        x = layers.Concatenate()([x, skip])\n",
    "\n",
    "    x = last(x)\n",
    "\n",
    "    return keras.Model(inputs=inputs, outputs=x)"
   ]
  },
  {
   "cell_type": "markdown",
   "metadata": {},
   "source": [
    "# Build the discriminator\n",
    "\n",
    "The discriminator above takes an image created from the generator and determines whether or not the image is real or fake. The output here is another image. If the image has higher pixel values, then the discriminator has determined the input to be real. If the image has lower pixel values, then the input image is determined to be fake."
   ]
  },
  {
   "cell_type": "code",
   "execution_count": null,
   "metadata": {
    "execution": {
     "iopub.execute_input": "2023-08-01T03:57:34.311516Z",
     "iopub.status.busy": "2023-08-01T03:57:34.310414Z",
     "iopub.status.idle": "2023-08-01T03:57:34.322149Z",
     "shell.execute_reply": "2023-08-01T03:57:34.320967Z",
     "shell.execute_reply.started": "2023-08-01T03:57:34.311467Z"
    }
   },
   "outputs": [],
   "source": [
    "def Discriminator():\n",
    "    initializer = tf.random_normal_initializer(0., 0.02)\n",
    "    gamma_init = keras.initializers.RandomNormal(mean=0.0, stddev=0.02)\n",
    "\n",
    "    inp = layers.Input(shape=[256, 256, 3], name='input_image')\n",
    "\n",
    "    x = inp\n",
    "\n",
    "    down1 = downsample(64, 4, False)(x) # (bs, 128, 128, 64)\n",
    "    down2 = downsample(128, 4)(down1) # (bs, 64, 64, 128)\n",
    "    down3 = downsample(256, 4)(down2) # (bs, 32, 32, 256)\n",
    "\n",
    "    zero_pad1 = layers.ZeroPadding2D()(down3) # (bs, 34, 34, 256)\n",
    "    conv = layers.Conv2D(512, 4, strides=1,\n",
    "                         kernel_initializer=initializer,\n",
    "                         use_bias=False)(zero_pad1) # (bs, 31, 31, 512)\n",
    "\n",
    "    norm1 = tfa.layers.InstanceNormalization(gamma_initializer=gamma_init)(conv)\n",
    "\n",
    "    leaky_relu = layers.LeakyReLU()(norm1)\n",
    "\n",
    "    zero_pad2 = layers.ZeroPadding2D()(leaky_relu) # (bs, 33, 33, 512)\n",
    "\n",
    "    last = layers.Conv2D(1, 4, strides=1,\n",
    "                         kernel_initializer=initializer)(zero_pad2) # (bs, 30, 30, 1)\n",
    "\n",
    "    return tf.keras.Model(inputs=inp, outputs=last)"
   ]
  },
  {
   "cell_type": "code",
   "execution_count": null,
   "metadata": {
    "execution": {
     "iopub.execute_input": "2023-08-01T03:57:35.087388Z",
     "iopub.status.busy": "2023-08-01T03:57:35.086171Z",
     "iopub.status.idle": "2023-08-01T03:57:37.992394Z",
     "shell.execute_reply": "2023-08-01T03:57:37.991388Z",
     "shell.execute_reply.started": "2023-08-01T03:57:35.087345Z"
    }
   },
   "outputs": [],
   "source": [
    "with strategy.scope():\n",
    "    monet_generator = Generator() # transforms photos to Monet-esque paintings\n",
    "    photo_generator = Generator() # transforms Monet paintings to be more like photos\n",
    "\n",
    "    monet_discriminator = Discriminator() # differentiates real Monet paintings and generated Monet paintings\n",
    "    photo_discriminator = Discriminator() # differentiates real photos and generated photos"
   ]
  },
  {
   "cell_type": "markdown",
   "metadata": {},
   "source": [
    "The code above does the following:\n",
    "\n",
    "* monet_generator: This transforms photos into Monet style paintings\n",
    "* photo_generator: This works backwards. It transforms Monet paintings into regular photos.\n",
    "* monet_discriminator: This determines whether or not an image is a real Monet painting or a generated painting.\n",
    "* photo_discriminator: This determines whether or not an image is a real photo or a generated photo.\n",
    "\n",
    "Since our generators are not trained yet, the generated Monet-esque photo does not show what is expected at this point."
   ]
  },
  {
   "cell_type": "code",
   "execution_count": null,
   "metadata": {
    "execution": {
     "iopub.execute_input": "2023-08-01T03:58:54.444849Z",
     "iopub.status.busy": "2023-08-01T03:58:54.444352Z",
     "iopub.status.idle": "2023-08-01T03:59:01.342855Z",
     "shell.execute_reply": "2023-08-01T03:59:01.341866Z",
     "shell.execute_reply.started": "2023-08-01T03:58:54.444806Z"
    }
   },
   "outputs": [],
   "source": [
    "to_monet = monet_generator(example_photo)\n",
    "\n",
    "plt.subplot(1, 2, 1)\n",
    "plt.title(\"Original Photo\")\n",
    "plt.imshow(example_photo[0] * 0.5 + 0.5)\n",
    "\n",
    "plt.subplot(1, 2, 2)\n",
    "plt.title(\"Monet-esque Photo\")\n",
    "plt.imshow(to_monet[0] * 0.5 + 0.5)\n",
    "plt.show()"
   ]
  },
  {
   "cell_type": "markdown",
   "metadata": {},
   "source": [
    "# Building CycleGAN "
   ]
  },
  {
   "cell_type": "code",
   "execution_count": null,
   "metadata": {
    "execution": {
     "iopub.execute_input": "2023-08-01T03:59:48.399442Z",
     "iopub.status.busy": "2023-08-01T03:59:48.399068Z",
     "iopub.status.idle": "2023-08-01T03:59:48.421451Z",
     "shell.execute_reply": "2023-08-01T03:59:48.420424Z",
     "shell.execute_reply.started": "2023-08-01T03:59:48.399409Z"
    }
   },
   "outputs": [],
   "source": [
    "class CycleGan(keras.Model):\n",
    "    def __init__(\n",
    "        self,\n",
    "        monet_generator,\n",
    "        photo_generator,\n",
    "        monet_discriminator,\n",
    "        photo_discriminator,\n",
    "        lambda_cycle=10,\n",
    "    ):\n",
    "        super(CycleGan, self).__init__()\n",
    "        self.m_gen = monet_generator\n",
    "        self.p_gen = photo_generator\n",
    "        self.m_disc = monet_discriminator\n",
    "        self.p_disc = photo_discriminator\n",
    "        self.lambda_cycle = lambda_cycle\n",
    "        \n",
    "    def compile(\n",
    "        self,\n",
    "        m_gen_optimizer,\n",
    "        p_gen_optimizer,\n",
    "        m_disc_optimizer,\n",
    "        p_disc_optimizer,\n",
    "        gen_loss_fn,\n",
    "        disc_loss_fn,\n",
    "        cycle_loss_fn,\n",
    "        identity_loss_fn\n",
    "    ):\n",
    "        super(CycleGan, self).compile()\n",
    "        self.m_gen_optimizer = m_gen_optimizer\n",
    "        self.p_gen_optimizer = p_gen_optimizer\n",
    "        self.m_disc_optimizer = m_disc_optimizer\n",
    "        self.p_disc_optimizer = p_disc_optimizer\n",
    "        self.gen_loss_fn = gen_loss_fn\n",
    "        self.disc_loss_fn = disc_loss_fn\n",
    "        self.cycle_loss_fn = cycle_loss_fn\n",
    "        self.identity_loss_fn = identity_loss_fn\n",
    "        \n",
    "    def train_step(self, batch_data):\n",
    "        real_monet, real_photo = batch_data\n",
    "        \n",
    "        with tf.GradientTape(persistent=True) as tape:\n",
    "            # photo to monet back to photo\n",
    "            fake_monet = self.m_gen(real_photo, training=True)\n",
    "            cycled_photo = self.p_gen(fake_monet, training=True)\n",
    "\n",
    "            # monet to photo back to monet\n",
    "            fake_photo = self.p_gen(real_monet, training=True)\n",
    "            cycled_monet = self.m_gen(fake_photo, training=True)\n",
    "\n",
    "            # generating itself\n",
    "            same_monet = self.m_gen(real_monet, training=True)\n",
    "            same_photo = self.p_gen(real_photo, training=True)\n",
    "\n",
    "            # discriminator used to check, inputing real images\n",
    "            disc_real_monet = self.m_disc(real_monet, training=True)\n",
    "            disc_real_photo = self.p_disc(real_photo, training=True)\n",
    "\n",
    "            # discriminator used to check, inputing fake images\n",
    "            disc_fake_monet = self.m_disc(fake_monet, training=True)\n",
    "            disc_fake_photo = self.p_disc(fake_photo, training=True)\n",
    "\n",
    "            # evaluates generator loss\n",
    "            monet_gen_loss = self.gen_loss_fn(disc_fake_monet)\n",
    "            photo_gen_loss = self.gen_loss_fn(disc_fake_photo)\n",
    "\n",
    "            # evaluates total cycle consistency loss\n",
    "            total_cycle_loss = self.cycle_loss_fn(real_monet, cycled_monet, self.lambda_cycle) + self.cycle_loss_fn(real_photo, cycled_photo, self.lambda_cycle)\n",
    "\n",
    "            # evaluates total generator loss\n",
    "            total_monet_gen_loss = monet_gen_loss + total_cycle_loss + self.identity_loss_fn(real_monet, same_monet, self.lambda_cycle)\n",
    "            total_photo_gen_loss = photo_gen_loss + total_cycle_loss + self.identity_loss_fn(real_photo, same_photo, self.lambda_cycle)\n",
    "\n",
    "            # evaluates discriminator loss\n",
    "            monet_disc_loss = self.disc_loss_fn(disc_real_monet, disc_fake_monet)\n",
    "            photo_disc_loss = self.disc_loss_fn(disc_real_photo, disc_fake_photo)\n",
    "\n",
    "        # Calculate the gradients for generator and discriminator\n",
    "        monet_generator_gradients = tape.gradient(total_monet_gen_loss,\n",
    "                                                  self.m_gen.trainable_variables)\n",
    "        photo_generator_gradients = tape.gradient(total_photo_gen_loss,\n",
    "                                                  self.p_gen.trainable_variables)\n",
    "\n",
    "        monet_discriminator_gradients = tape.gradient(monet_disc_loss,\n",
    "                                                      self.m_disc.trainable_variables)\n",
    "        photo_discriminator_gradients = tape.gradient(photo_disc_loss,\n",
    "                                                      self.p_disc.trainable_variables)\n",
    "\n",
    "        # Apply the gradients to the optimizer\n",
    "        self.m_gen_optimizer.apply_gradients(zip(monet_generator_gradients,\n",
    "                                                 self.m_gen.trainable_variables))\n",
    "\n",
    "        self.p_gen_optimizer.apply_gradients(zip(photo_generator_gradients,\n",
    "                                                 self.p_gen.trainable_variables))\n",
    "\n",
    "        self.m_disc_optimizer.apply_gradients(zip(monet_discriminator_gradients,\n",
    "                                                  self.m_disc.trainable_variables))\n",
    "\n",
    "        self.p_disc_optimizer.apply_gradients(zip(photo_discriminator_gradients,\n",
    "                                                  self.p_disc.trainable_variables))\n",
    "        \n",
    "        return {\n",
    "            \"monet_gen_loss\": total_monet_gen_loss,\n",
    "            \"photo_gen_loss\": total_photo_gen_loss,\n",
    "            \"monet_disc_loss\": monet_disc_loss,\n",
    "            \"photo_disc_loss\": photo_disc_loss\n",
    "        }"
   ]
  },
  {
   "cell_type": "markdown",
   "metadata": {},
   "source": [
    "# Define loss functions\n",
    "\n",
    "The discriminator loss function below compares real images to a matrix of 1s and fake images to a matrix of 0s. The perfect discriminator will output all 1s for real images and all 0s for fake images. The discriminator loss outputs the average of the real and generated loss."
   ]
  },
  {
   "cell_type": "code",
   "execution_count": null,
   "metadata": {
    "execution": {
     "iopub.execute_input": "2023-08-01T04:35:59.860108Z",
     "iopub.status.busy": "2023-08-01T04:35:59.859695Z",
     "iopub.status.idle": "2023-08-01T04:35:59.869636Z",
     "shell.execute_reply": "2023-08-01T04:35:59.868629Z",
     "shell.execute_reply.started": "2023-08-01T04:35:59.860073Z"
    }
   },
   "outputs": [],
   "source": [
    "with strategy.scope():\n",
    "    def discriminator_loss(real, generated):\n",
    "        real_loss = tf.keras.losses.BinaryCrossentropy(from_logits=True, reduction=tf.keras.losses.Reduction.NONE)(tf.ones_like(real), real)\n",
    "\n",
    "        generated_loss = tf.keras.losses.BinaryCrossentropy(from_logits=True, reduction=tf.keras.losses.Reduction.NONE)(tf.zeros_like(generated), generated)\n",
    "\n",
    "        total_disc_loss = real_loss + generated_loss\n",
    "\n",
    "        return total_disc_loss * 0.5"
   ]
  },
  {
   "cell_type": "code",
   "execution_count": null,
   "metadata": {
    "execution": {
     "iopub.execute_input": "2023-08-01T04:36:11.843575Z",
     "iopub.status.busy": "2023-08-01T04:36:11.842395Z",
     "iopub.status.idle": "2023-08-01T04:36:11.849951Z",
     "shell.execute_reply": "2023-08-01T04:36:11.848513Z",
     "shell.execute_reply.started": "2023-08-01T04:36:11.843500Z"
    }
   },
   "outputs": [],
   "source": [
    "with strategy.scope():\n",
    "    def generator_loss(generated):\n",
    "        return tf.keras.losses.BinaryCrossentropy(from_logits=True, reduction=tf.keras.losses.Reduction.NONE)(tf.ones_like(generated), generated)"
   ]
  },
  {
   "cell_type": "code",
   "execution_count": null,
   "metadata": {
    "execution": {
     "iopub.execute_input": "2023-08-01T04:37:33.579386Z",
     "iopub.status.busy": "2023-08-01T04:37:33.578415Z",
     "iopub.status.idle": "2023-08-01T04:37:33.585569Z",
     "shell.execute_reply": "2023-08-01T04:37:33.584369Z",
     "shell.execute_reply.started": "2023-08-01T04:37:33.579333Z"
    }
   },
   "outputs": [],
   "source": [
    "with strategy.scope():\n",
    "    def calc_cycle_loss(real_image, cycled_image, LAMBDA):\n",
    "        loss1 = tf.reduce_mean(tf.abs(real_image - cycled_image))\n",
    "        return LAMBDA * loss1"
   ]
  },
  {
   "cell_type": "code",
   "execution_count": null,
   "metadata": {
    "execution": {
     "iopub.execute_input": "2023-08-01T04:37:34.986114Z",
     "iopub.status.busy": "2023-08-01T04:37:34.985332Z",
     "iopub.status.idle": "2023-08-01T04:37:34.992933Z",
     "shell.execute_reply": "2023-08-01T04:37:34.991798Z",
     "shell.execute_reply.started": "2023-08-01T04:37:34.986070Z"
    }
   },
   "outputs": [],
   "source": [
    "with strategy.scope():\n",
    "    def identity_loss(real_image, same_image, LAMBDA):\n",
    "        loss = tf.reduce_mean(tf.abs(real_image - same_image))\n",
    "        return LAMBDA * 0.5 * loss"
   ]
  },
  {
   "cell_type": "markdown",
   "metadata": {},
   "source": [
    "# Model Training\n",
    "\n",
    "Let's compile and train our model"
   ]
  },
  {
   "cell_type": "code",
   "execution_count": null,
   "metadata": {
    "execution": {
     "iopub.execute_input": "2023-08-01T04:37:36.680070Z",
     "iopub.status.busy": "2023-08-01T04:37:36.678876Z",
     "iopub.status.idle": "2023-08-01T04:37:36.687248Z",
     "shell.execute_reply": "2023-08-01T04:37:36.686175Z",
     "shell.execute_reply.started": "2023-08-01T04:37:36.680029Z"
    }
   },
   "outputs": [],
   "source": [
    "with strategy.scope():\n",
    "    monet_generator_optimizer = tf.keras.optimizers.Adam(2e-4, beta_1=0.5)\n",
    "    photo_generator_optimizer = tf.keras.optimizers.Adam(2e-4, beta_1=0.5)\n",
    "\n",
    "    monet_discriminator_optimizer = tf.keras.optimizers.Adam(2e-4, beta_1=0.5)\n",
    "    photo_discriminator_optimizer = tf.keras.optimizers.Adam(2e-4, beta_1=0.5)"
   ]
  },
  {
   "cell_type": "code",
   "execution_count": null,
   "metadata": {
    "execution": {
     "iopub.execute_input": "2023-08-01T04:37:37.138091Z",
     "iopub.status.busy": "2023-08-01T04:37:37.137719Z",
     "iopub.status.idle": "2023-08-01T04:37:37.160580Z",
     "shell.execute_reply": "2023-08-01T04:37:37.159663Z",
     "shell.execute_reply.started": "2023-08-01T04:37:37.138061Z"
    }
   },
   "outputs": [],
   "source": [
    "with strategy.scope():\n",
    "    cycle_gan_model = CycleGan(\n",
    "        monet_generator, photo_generator, monet_discriminator, photo_discriminator\n",
    "    )\n",
    "\n",
    "    cycle_gan_model.compile(\n",
    "        m_gen_optimizer = monet_generator_optimizer,\n",
    "        p_gen_optimizer = photo_generator_optimizer,\n",
    "        m_disc_optimizer = monet_discriminator_optimizer,\n",
    "        p_disc_optimizer = photo_discriminator_optimizer,\n",
    "        gen_loss_fn = generator_loss,\n",
    "        disc_loss_fn = discriminator_loss,\n",
    "        cycle_loss_fn = calc_cycle_loss,\n",
    "        identity_loss_fn = identity_loss\n",
    "    )"
   ]
  },
  {
   "cell_type": "code",
   "execution_count": null,
   "metadata": {
    "execution": {
     "iopub.execute_input": "2023-08-01T04:37:37.923696Z",
     "iopub.status.busy": "2023-08-01T04:37:37.923298Z",
     "iopub.status.idle": "2023-08-01T05:12:00.842434Z",
     "shell.execute_reply": "2023-08-01T05:12:00.841269Z",
     "shell.execute_reply.started": "2023-08-01T04:37:37.923663Z"
    }
   },
   "outputs": [],
   "source": [
    "cycle_gan_model.fit(\n",
    "    tf.data.Dataset.zip((monet_ds, photo_ds)),\n",
    "    epochs=25\n",
    ")"
   ]
  },
  {
   "cell_type": "markdown",
   "metadata": {},
   "source": [
    "# Results"
   ]
  },
  {
   "cell_type": "markdown",
   "metadata": {},
   "source": [
    "Once the model is trained we wanted to actually generate some images using our photo-to-painting generator. The results are nice considering we only trained the model for 25 epochs."
   ]
  },
  {
   "cell_type": "code",
   "execution_count": null,
   "metadata": {
    "execution": {
     "iopub.execute_input": "2023-08-01T05:15:11.552598Z",
     "iopub.status.busy": "2023-08-01T05:15:11.552179Z",
     "iopub.status.idle": "2023-08-01T05:15:14.406369Z",
     "shell.execute_reply": "2023-08-01T05:15:14.405430Z",
     "shell.execute_reply.started": "2023-08-01T05:15:11.552534Z"
    }
   },
   "outputs": [],
   "source": [
    "_, ax = plt.subplots(5, 2, figsize=(12, 12))\n",
    "for i, img in enumerate(photo_ds.take(5)):\n",
    "    prediction = monet_generator(img, training=False)[0].numpy()\n",
    "    prediction = (prediction * 127.5 + 127.5).astype(np.uint8)\n",
    "    img = (img[0] * 127.5 + 127.5).numpy().astype(np.uint8)\n",
    "\n",
    "    ax[i, 0].imshow(img)\n",
    "    ax[i, 1].imshow(prediction)\n",
    "    ax[i, 0].set_title(\"Input Photo\")\n",
    "    ax[i, 1].set_title(\"Monet-esque\")\n",
    "    ax[i, 0].axis(\"off\")\n",
    "    ax[i, 1].axis(\"off\")\n",
    "plt.show()"
   ]
  },
  {
   "cell_type": "markdown",
   "metadata": {},
   "source": [
    "Just from the above examples we can see that the model did in fact learn what we wanted it to since the right image definitely looks a bit like a Monet painting. The model does a good job at blurring the details in the raw image, and accentuating the colors.\n",
    "\n",
    "What was most intriguing about this is that it gives insight about how the generator is adding style to the images. During training, the generator likely learned how to blur and adjust the color of the input images so that it can better fool the discriminator since these are qualities that are most strongly present in Monet paintings."
   ]
  },
  {
   "cell_type": "markdown",
   "metadata": {},
   "source": [
    "# Submission"
   ]
  },
  {
   "cell_type": "code",
   "execution_count": null,
   "metadata": {
    "execution": {
     "iopub.execute_input": "2023-08-01T05:19:54.225450Z",
     "iopub.status.busy": "2023-08-01T05:19:54.225057Z",
     "iopub.status.idle": "2023-08-01T05:19:55.226469Z",
     "shell.execute_reply": "2023-08-01T05:19:55.225069Z",
     "shell.execute_reply.started": "2023-08-01T05:19:54.225417Z"
    }
   },
   "outputs": [],
   "source": [
    "import PIL\n",
    "! mkdir ../images"
   ]
  },
  {
   "cell_type": "code",
   "execution_count": null,
   "metadata": {
    "execution": {
     "iopub.execute_input": "2023-08-01T05:19:56.537138Z",
     "iopub.status.busy": "2023-08-01T05:19:56.536727Z",
     "iopub.status.idle": "2023-08-01T05:25:57.098182Z",
     "shell.execute_reply": "2023-08-01T05:25:57.097138Z",
     "shell.execute_reply.started": "2023-08-01T05:19:56.537101Z"
    }
   },
   "outputs": [],
   "source": [
    "i = 1\n",
    "for img in photo_ds:\n",
    "    prediction = monet_generator(img, training=False)[0].numpy()\n",
    "    prediction = (prediction * 127.5 + 127.5).astype(np.uint8)\n",
    "    im = PIL.Image.fromarray(prediction)\n",
    "    im.save(\"../images/\" + str(i) + \".jpg\")\n",
    "    i += 1"
   ]
  },
  {
   "cell_type": "code",
   "execution_count": null,
   "metadata": {
    "execution": {
     "iopub.execute_input": "2023-08-01T05:29:10.619270Z",
     "iopub.status.busy": "2023-08-01T05:29:10.618872Z",
     "iopub.status.idle": "2023-08-01T05:29:14.809291Z",
     "shell.execute_reply": "2023-08-01T05:29:14.808089Z",
     "shell.execute_reply.started": "2023-08-01T05:29:10.619236Z"
    }
   },
   "outputs": [],
   "source": [
    "import shutil\n",
    "shutil.make_archive(\"/kaggle/working/images\", 'zip', \"/kaggle/images\")"
   ]
  },
  {
   "cell_type": "markdown",
   "metadata": {},
   "source": [
    "# Conclusion\n",
    "Overall, this project on Cycle GANs provided a great opportunity to dive into the complex and intriguing area of deep learning. Some areas for further exploration on the research side of this project include testing out different numbers of residual layers in the generator and its effects on model performance, and on the code optimization could produce interesting benchmarks. "
   ]
  },
  {
   "cell_type": "markdown",
   "metadata": {},
   "source": [
    "# Reference\n",
    "https://www.kaggle.com/code/amyjang/monet-cyclegan-tutorial"
   ]
  },
  {
   "cell_type": "markdown",
   "metadata": {},
   "source": [
    "# Github URL:\n",
    "https://github.com/occoder2021/create-monet-gan"
   ]
  },
  {
   "cell_type": "code",
   "execution_count": null,
   "metadata": {},
   "outputs": [],
   "source": []
  }
 ],
 "metadata": {
  "kernelspec": {
   "display_name": "Python 3 (ipykernel)",
   "language": "python",
   "name": "python3"
  },
  "language_info": {
   "codemirror_mode": {
    "name": "ipython",
    "version": 3
   },
   "file_extension": ".py",
   "mimetype": "text/x-python",
   "name": "python",
   "nbconvert_exporter": "python",
   "pygments_lexer": "ipython3",
   "version": "3.10.11"
  }
 },
 "nbformat": 4,
 "nbformat_minor": 4
}
